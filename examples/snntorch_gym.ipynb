{
 "cells": [
  {
   "cell_type": "code",
   "execution_count": 1,
   "metadata": {},
   "outputs": [],
   "source": [
    "from leap_torch.ops import mutate_guassian, uniform_crossover\n",
    "from leap_torch.initializers import create_instance\n",
    "from leap_torch.decoders import NumpyDecoder\n",
    "\n",
    "from leap_ec import ops\n",
    "from leap_ec.probe import FitnessPlotProbe\n",
    "from leap_ec.representation import Representation\n",
    "from leap_ec.algorithm import generational_ea\n",
    "from leap_ec.executable_rep.problems import EnvironmentProblem\n",
    "from leap_ec.executable_rep.executable import ArgmaxExecutable, WrapperDecoder\n",
    "\n",
    "import gymnasium as gym\n",
    "import matplotlib.pyplot as plt\n",
    "\n",
    "%matplotlib qt5"
   ]
  },
  {
   "cell_type": "code",
   "execution_count": 2,
   "metadata": {},
   "outputs": [
    {
     "name": "stderr",
     "output_type": "stream",
     "text": [
      "QSocketNotifier: Can only be used with threads started with QThread\n"
     ]
    }
   ],
   "source": [
    "device = \"cpu\"\n",
    "\n",
    "POP_SIZE = 100\n",
    "GENERATIONS = 250\n",
    "\n",
    "RUNS_PER_FITNESS_EVAL = 5\n",
    "SIMULATION_STEPS = 500"
   ]
  },
  {
   "cell_type": "code",
   "execution_count": 3,
   "metadata": {},
   "outputs": [],
   "source": [
    "import torch\n",
    "import torch.nn as nn\n",
    "import snntorch as snn\n",
    "\n",
    "\n",
    "# Define Network\n",
    "class SpikingNetwork(nn.Module):\n",
    "   def __init__(self, num_inputs, num_hidden, num_outputs, start_beta=0.1, num_steps=10):\n",
    "          super().__init__()\n",
    "\n",
    "          self.num_steps = num_steps\n",
    "\n",
    "          self.fc1 = nn.Linear(num_inputs, num_hidden)\n",
    "          self.fc2 = nn.Linear(num_hidden, num_outputs)\n",
    "          with torch.no_grad():\n",
    "               for param in self.fc1.parameters():\n",
    "                    nn.init.uniform_(param, -1, 1)\n",
    "               for param in self.fc2.parameters():\n",
    "                    nn.init.uniform_(param, -1, 1)\n",
    "          \n",
    "          self.lif1 = snn.Leaky(start_beta, learn_beta=True, learn_threshold=True)\n",
    "          self.lif2 = snn.Leaky(start_beta, learn_beta=True, learn_threshold=True)\n",
    "\n",
    "   def forward(self, x):\n",
    "          spk1, syn1 = self.lif1.init_synaptic()\n",
    "          spk2, syn2 = self.lif2.init_synaptic()\n",
    "\n",
    "          spk2_sum = None\n",
    "\n",
    "          for _ in range(self.num_steps):\n",
    "               cur1 = self.fc1(x)\n",
    "               spk1, syn1 = self.lif1(cur1, syn1)\n",
    "               cur2 = self.fc2(spk1)\n",
    "               spk2, syn2 = self.lif2(cur2, syn2)\n",
    "               \n",
    "               if spk2_sum is None:\n",
    "                    spk2_sum = torch.zeros(spk2.size()).to(spk2)\n",
    "               spk2_sum += spk2\n",
    "               \n",
    "          return spk2_sum"
   ]
  },
  {
   "cell_type": "code",
   "execution_count": 4,
   "metadata": {},
   "outputs": [
    {
     "name": "stderr",
     "output_type": "stream",
     "text": [
      "libEGL warning: MESA-LOADER: failed to open iris: /usr/lib/dri/iris_dri.so: cannot open shared object file: No such file or directory (search paths /usr/lib/x86_64-linux-gnu/dri:\\$${ORIGIN}/dri:/usr/lib/dri, suffix _dri)\n",
      "\n",
      "libEGL warning: MESA-LOADER: failed to open swrast: /usr/lib/dri/swrast_dri.so: cannot open shared object file: No such file or directory (search paths /usr/lib/x86_64-linux-gnu/dri:\\$${ORIGIN}/dri:/usr/lib/dri, suffix _dri)\n",
      "\n",
      "qt.qpa.wayland: Failed to initialize EGL display 3001\n",
      "qt.qpa.wayland: Wayland does not support QWindow::requestActivate()\n",
      "qt.qpa.wayland: Wayland does not support QWindow::requestActivate()\n",
      "qt.qpa.wayland: Wayland does not support QWindow::requestActivate()\n",
      "qt.qpa.wayland: Wayland does not support QWindow::requestActivate()\n",
      "qt.qpa.wayland: Wayland does not support QWindow::requestActivate()\n",
      "qt.qpa.wayland: Wayland does not support QWindow::requestActivate()\n",
      "qt.qpa.wayland: Wayland does not support QWindow::requestActivate()\n",
      "qt.qpa.wayland: Wayland does not support QWindow::requestActivate()\n",
      "qt.qpa.wayland: Wayland does not support QWindow::requestActivate()\n",
      "qt.qpa.wayland: Wayland does not support QWindow::requestActivate()\n",
      "qt.qpa.wayland: Wayland does not support QWindow::requestActivate()\n",
      "qt.qpa.wayland: Wayland does not support QWindow::requestActivate()\n",
      "qt.qpa.wayland: Wayland does not support QWindow::requestActivate()\n",
      "qt.qpa.wayland: Wayland does not support QWindow::requestActivate()\n",
      "qt.qpa.wayland: Wayland does not support QWindow::requestActivate()\n",
      "qt.qpa.wayland: Wayland does not support QWindow::requestActivate()\n",
      "qt.qpa.wayland: Wayland does not support QWindow::requestActivate()\n",
      "qt.qpa.wayland: Wayland does not support QWindow::requestActivate()\n",
      "qt.qpa.wayland: Wayland does not support QWindow::requestActivate()\n",
      "qt.qpa.wayland: Wayland does not support QWindow::requestActivate()\n"
     ]
    },
    {
     "ename": "",
     "evalue": "",
     "output_type": "error",
     "traceback": [
      "\u001b[1;31mCanceled future for execute_request message before replies were done"
     ]
    },
    {
     "ename": "",
     "evalue": "",
     "output_type": "error",
     "traceback": [
      "\u001b[1;31mThe Kernel crashed while executing code in the the current cell or a previous cell. Please review the code in the cell(s) to identify a possible cause of the failure. Click <a href='https://aka.ms/vscodeJupyterKernelCrash'>here</a> for more info. View Jupyter <a href='command:jupyter.viewOutput'>log</a> for further details."
     ]
    }
   ],
   "source": [
    "env = gym.make(\"CartPole-v1\")\n",
    "decoder = WrapperDecoder(\n",
    "    wrapped_decoder=NumpyDecoder(device=device), decorator=ArgmaxExecutable\n",
    ")\n",
    "\n",
    "plot_probe = FitnessPlotProbe(\n",
    "        ylim=(0, 1), xlim=(0, 1),\n",
    "        modulo=1, ax=plt.gca()\n",
    "    )\n",
    "\n",
    "generational_ea(\n",
    "        max_generations=GENERATIONS, pop_size=POP_SIZE,\n",
    "        \n",
    "        problem=EnvironmentProblem(\n",
    "            RUNS_PER_FITNESS_EVAL, SIMULATION_STEPS,\n",
    "            environment=env, fitness_type=\"reward\", gui=False\n",
    "        ),\n",
    "        \n",
    "        representation=Representation(\n",
    "            initialize=create_instance(\n",
    "                SpikingNetwork,\n",
    "                env.observation_space.shape[0], 20, env.action_space.n\n",
    "            ), decoder=decoder\n",
    "        ),\n",
    "        \n",
    "        pipeline=[\n",
    "            ops.tournament_selection,\n",
    "            ops.clone,\n",
    "            mutate_guassian(std=0.05, p_mutate=0.01),\n",
    "            uniform_crossover(),\n",
    "            ops.evaluate,\n",
    "            ops.pool(size=POP_SIZE),\n",
    "            plot_probe,\n",
    "        ]\n",
    "    )\n"
   ]
  }
 ],
 "metadata": {
  "kernelspec": {
   "display_name": "LEAP",
   "language": "python",
   "name": "python3"
  },
  "language_info": {
   "codemirror_mode": {
    "name": "ipython",
    "version": 3
   },
   "file_extension": ".py",
   "mimetype": "text/x-python",
   "name": "python",
   "nbconvert_exporter": "python",
   "pygments_lexer": "ipython3",
   "version": "3.11.3"
  },
  "orig_nbformat": 4
 },
 "nbformat": 4,
 "nbformat_minor": 2
}
